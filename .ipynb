{
 "cells": [
  {
   "cell_type": "code",
   "execution_count": 40,
   "metadata": {},
   "outputs": [],
   "source": [
    "import cassis\n",
    "import json\n",
    "\n",
    "# Load the TypeSystem\n",
    "with open('/home/arjan_v_d/LLMarjan/Dieuwertje/TypeSystem.xml', 'rb') as f:\n",
    "    typesystem = cassis.load_typesystem(f)\n",
    "\n",
    "# Load the XMI file\n",
    "with open('/home/arjan_v_d/LLMarjan/Dieuwertje/Dieuwertje.xmi', 'rb') as f:\n",
    "    cas = cassis.load_cas_from_xmi(f, typesystem=typesystem)\n",
    "\n",
    "# Prepare the output list\n",
    "sentences_list = []\n",
    "\n",
    "# Define types\n",
    "SentenceType = typesystem.get_type('de.tudarmstadt.ukp.dkpro.core.api.segmentation.type.Sentence')\n",
    "NamedEntityType = typesystem.get_type('custom.Span')\n",
    "\n",
    "# Extract sentences and their annotations\n",
    "for sentence in cas.select(SentenceType):\n",
    "    sentence_text = cas.sofa_string[sentence.begin:sentence.end]  # Corrected attribute name here\n",
    "    labels = []\n",
    "    \n",
    "    for named_entity in cas.select_covered(NamedEntityType, sentence):\n",
    "        label_text = cas.sofa_string[named_entity.begin:named_entity.end]  # Corrected attribute name here\n",
    "        labels.append({\n",
    "            \"text\": label_text,\n",
    "            \"start\": named_entity.begin - sentence.begin,\n",
    "            \"end\": named_entity.end - sentence.begin,\n",
    "            \"label\": getattr(named_entity, 'label', 'Unknown')  # Handling missing label attribute\n",
    "        })\n",
    "    \n",
    "    sentences_list.append({\n",
    "        \"text\": sentence_text,\n",
    "        \"labels\": labels\n",
    "    })\n",
    "\n",
    "# Save the results to a JSON file\n",
    "with open('annotations.json', 'w') as f:\n",
    "    json.dump(sentences_list, f, indent=4)\n",
    "\n",
    "# Print the results in JSON format (for verification)\n",
    "# print(json.dumps(sentences_list, indent=4))\n",
    "\n"
   ]
  }
 ],
 "metadata": {
  "kernelspec": {
   "display_name": "Python 3",
   "language": "python",
   "name": "python3"
  },
  "language_info": {
   "codemirror_mode": {
    "name": "ipython",
    "version": 3
   },
   "file_extension": ".py",
   "mimetype": "text/x-python",
   "name": "python",
   "nbconvert_exporter": "python",
   "pygments_lexer": "ipython3",
   "version": "3.11.9"
  }
 },
 "nbformat": 4,
 "nbformat_minor": 2
}
