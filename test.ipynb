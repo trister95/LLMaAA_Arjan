{
 "cells": [
  {
   "cell_type": "code",
   "execution_count": 3,
   "metadata": {},
   "outputs": [
    {
     "name": "stdout",
     "output_type": "stream",
     "text": [
      "\\begin{tabular}{l|ccccccc}\n",
      "\\toprule\n",
      "Method & hum1 & hum2 & direct_no_demo & direct_demo1 & direct_demo2 & indirect1 & indirect2 \\\\\n",
      "\\midrule\n",
      "hum1 & 0.0000 & 0.9849 & 0.9483 & 0.9678 & 0.9674 & 0.9690 & 0.9645 \\\\\n",
      " &  &  & \\scriptsize ${\\pm 0.0030}$ & \\scriptsize ${\\pm 0.0015}$ & \\scriptsize ${\\pm 0.0020}$ &  &  \\\\\n",
      "hum2 & 0.9852 & 0.0000 & 0.9450 & 0.9653 & 0.9686 & 0.9650 & 0.9627 \\\\\n",
      " &  &  & \\scriptsize ${\\pm 0.0026}$ & \\scriptsize ${\\pm 0.0019}$ & \\scriptsize ${\\pm 0.0023}$ &  &  \\\\\n",
      "direct_no_demo & 0.9570 & 0.9550 & 0.0000 & 0.9677 & 0.9663 & 0.9581 & 0.9566 \\\\\n",
      " & \\scriptsize ${\\pm 0.0049}$ & \\scriptsize ${\\pm 0.0050}$ &  & \\scriptsize ${\\pm 0.0025}$ & \\scriptsize ${\\pm 0.0026}$ & \\scriptsize ${\\pm 0.0029}$ & \\scriptsize ${\\pm 0.0033}$ \\\\\n",
      "direct_demo1 & 0.9631 & 0.9623 & 0.9592 & 0.0000 & 0.9811 & 0.9652 & 0.9645 \\\\\n",
      " & \\scriptsize ${\\pm 0.0027}$ & \\scriptsize ${\\pm 0.0030}$ & \\scriptsize ${\\pm 0.0060}$ &  & \\scriptsize ${\\pm 0.0033}$ & \\scriptsize ${\\pm 0.0015}$ & \\scriptsize ${\\pm 0.0026}$ \\\\\n",
      "direct_demo2 & 0.9627 & 0.9650 & 0.9570 & 0.9806 & 0.0000 & 0.9653 & 0.9632 \\\\\n",
      " & \\scriptsize ${\\pm 0.0030}$ & \\scriptsize ${\\pm 0.0029}$ & \\scriptsize ${\\pm 0.0050}$ & \\scriptsize ${\\pm 0.0031}$ &  & \\scriptsize ${\\pm 0.0020}$ & \\scriptsize ${\\pm 0.0025}$ \\\\\n",
      "indirect1 & 0.9662 & 0.9645 & 0.9485 & 0.9664 & 0.9675 & 0.0000 & 0.9821 \\\\\n",
      " &  &  & \\scriptsize ${\\pm 0.0038}$ & \\scriptsize ${\\pm 0.0013}$ & \\scriptsize ${\\pm 0.0018}$ &  &  \\\\\n",
      "indirect2 & 0.9622 & 0.9612 & 0.9452 & 0.9652 & 0.9646 & 0.9816 & 0.0000 \\\\\n",
      " &  &  & \\scriptsize ${\\pm 0.0045}$ & \\scriptsize ${\\pm 0.0021}$ & \\scriptsize ${\\pm 0.0022}$ &  &  \\\\\n",
      "\\bottomrule\n",
      "\\end{tabular}\n"
     ]
    }
   ],
   "source": [
    "import pandas as pd\n",
    "\n",
    "# Load the data\n",
    "data = pd.read_csv('comparison_results.csv')\n",
    "\n",
    "# Function to generate custom LaTeX table\n",
    "def generate_latex_table(df):\n",
    "    latex_str = \"\\\\begin{tabular}{l|ccccccc}\\n\\\\toprule\\n\"\n",
    "    latex_str += \" & \".join([\"Method\"] + list(df.columns[1:])) + \" \\\\\\\\\\n\"\n",
    "    latex_str += \"\\\\midrule\\n\"\n",
    "    for i in range(0, df.shape[0], 2):\n",
    "        # Main row values formatted as floating points\n",
    "        main_row_values = df.iloc[i, 1:].apply(lambda x: \"{:.4f}\".format(x))\n",
    "        latex_str += df.iloc[i, 0] + \" & \" + \" & \".join(main_row_values) + \" \\\\\\\\\\n\"\n",
    "        # Check if the next row is ± and if all values are zero\n",
    "        if i+1 < df.shape[0]:\n",
    "            deviations = df.iloc[i+1, 1:]\n",
    "            if all(deviation == 0 for deviation in deviations):\n",
    "                continue  # Skip entirely if all deviations are zero\n",
    "            # Adjust ± format to make text smaller and ensure math mode correctness\n",
    "            deviations = deviations.apply(lambda x: \"\\\\scriptsize{\\\\text{$\\\\pm$ \" + \"{:.4f}\".format(x) + \"}}\" if x != 0 else \"\")\n",
    "            # Append directly under each corresponding value\n",
    "            latex_str += \" & \" + \" & \".join(deviations.tolist()) + \" \\\\\\\\\\n\"\n",
    "    latex_str += \"\\\\bottomrule\\n\"\n",
    "    latex_str += \"\\\\end{tabular}\"\n",
    "    return latex_str\n",
    "\n",
    "# Generate the LaTeX table\n",
    "latex_table = generate_latex_table(data)\n",
    "print(latex_table)\n"
   ]
  }
 ],
 "metadata": {
  "kernelspec": {
   "display_name": "Python 3",
   "language": "python",
   "name": "python3"
  },
  "language_info": {
   "codemirror_mode": {
    "name": "ipython",
    "version": 3
   },
   "file_extension": ".py",
   "mimetype": "text/x-python",
   "name": "python",
   "nbconvert_exporter": "python",
   "pygments_lexer": "ipython3",
   "version": "3.11.9"
  }
 },
 "nbformat": 4,
 "nbformat_minor": 2
}
