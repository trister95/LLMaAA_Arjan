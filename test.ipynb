{
 "cells": [
  {
   "cell_type": "code",
   "execution_count": 22,
   "metadata": {},
   "outputs": [],
   "source": [
    "from transformers import pipeline \n",
    "\n",
    "t_pipe = pipeline(task=\"ner\", model=\"ArjanvD95/by_the_horns_T42G\")\n",
    "d_pipe = pipeline(task=\"ner\", model=\"ArjanvD95/by_the_horns_D42G\")\n"
   ]
  },
  {
   "cell_type": "code",
   "execution_count": 28,
   "metadata": {},
   "outputs": [
    {
     "name": "stdout",
     "output_type": "stream",
     "text": [
      "t: [{'entity': 'Plants-Products-Literal', 'score': 0.9899041, 'index': 8, 'word': 'kruid', 'start': 34, 'end': 39}]\n",
      "d: [{'entity': 'Plants-Products-Literal', 'score': 0.7990708, 'index': 8, 'word': 'kruid', 'start': 34, 'end': 39}]\n",
      "t: [{'entity': 'Animals-Organisms-Literal', 'score': 0.58509374, 'index': 4, 'word': 'visch', 'start': 16, 'end': 21}]\n",
      "d: [{'entity': 'Animals-Products-Literal', 'score': 0.54151314, 'index': 3, 'word': 'gedroogde', 'start': 6, 'end': 15}, {'entity': 'Animals-Organisms-Literal', 'score': 0.41055125, 'index': 4, 'word': 'visch', 'start': 16, 'end': 21}]\n"
     ]
    }
   ],
   "source": [
    "a = [\"Doch in kommerlyke tyden word dit kruid, een weinig geroost, door de menschen ten spyze gebruikt.\", \"Al de gedroogde visch, die zich toen op het eiland bevond, werd daar van geheel zwart en onbruikbaar, ja in de twe naastvolgende jaren werden door die assche, of veeleer door de 'er mede vermengde scherpachtige rotsbrokjes of zand, gelyk boven by den brand op Jan Mayen eiland aangemerkt is, zo verre het\"]\n",
    "\n",
    "for e in a:\n",
    "    b = t_pipe(e)\n",
    "    c = d_pipe(e)\n",
    "    if b != c: \n",
    "        print(\"t:\",b)\n",
    "        print(\"d:\",c)"
   ]
  }
 ],
 "metadata": {
  "kernelspec": {
   "display_name": "Python 3",
   "language": "python",
   "name": "python3"
  },
  "language_info": {
   "codemirror_mode": {
    "name": "ipython",
    "version": 3
   },
   "file_extension": ".py",
   "mimetype": "text/x-python",
   "name": "python",
   "nbconvert_exporter": "python",
   "pygments_lexer": "ipython3",
   "version": "3.11.9"
  }
 },
 "nbformat": 4,
 "nbformat_minor": 2
}
