{
 "cells": [
  {
   "cell_type": "code",
   "execution_count": 5,
   "metadata": {},
   "outputs": [
    {
     "name": "stdout",
     "output_type": "stream",
     "text": [
      "\\begin{tabular}{l|ccccccc}\n",
      "\\toprule\n",
      "Method & hum1 & hum2 & direct\\_no\\_demo & direct\\_demo1 & direct\\_demo2 & indirect1 & indirect2 \\\\\n",
      "\\midrule\n",
      "hum1 & 1.0000 & 0.8483 & 0.4595 & 0.6653 & 0.6514 & 0.6016 & 0.6262 \\\\\n",
      " &  &  & \\scriptsize{\\text{$\\pm$ 0.0421}} & \\scriptsize{\\text{$\\pm$ 0.0264}} & \\scriptsize{\\text{$\\pm$ 0.0227}} & \\scriptsize{\\text{$\\pm$ 0.0515}} & \\scriptsize{\\text{$\\pm$ 0.0242}} \\\\\n",
      "hum2 & 0.8332 & 1.0000 & 0.4412 & 0.6319 & 0.6584 & 0.5689 & 0.5959 \\\\\n",
      " &  &  & \\scriptsize{\\text{$\\pm$ 0.0400}} & \\scriptsize{\\text{$\\pm$ 0.0264}} & \\scriptsize{\\text{$\\pm$ 0.0269}} & \\scriptsize{\\text{$\\pm$ 0.0297}} & \\scriptsize{\\text{$\\pm$ 0.0171}} \\\\\n",
      "direct\\_no\\_demo & 0.5456 & 0.5206 & 0.7352 & 0.7991 & 0.7975 & 0.6236 & 0.6549 \\\\\n",
      " & \\scriptsize{\\text{$\\pm$ 0.0629}} & \\scriptsize{\\text{$\\pm$ 0.0856}} & \\scriptsize{\\text{$\\pm$ 0.1572}} & \\scriptsize{\\text{$\\pm$ 0.0410}} & \\scriptsize{\\text{$\\pm$ 0.0418}} & \\scriptsize{\\text{$\\pm$ 0.0422}} & \\scriptsize{\\text{$\\pm$ 0.0484}} \\\\\n",
      "direct\\_demo1 & 0.5939 & 0.5842 & 0.6258 & 0.9039 & 0.8487 & 0.6855 & 0.7147 \\\\\n",
      " & \\scriptsize{\\text{$\\pm$ 0.0256}} & \\scriptsize{\\text{$\\pm$ 0.0341}} & \\scriptsize{\\text{$\\pm$ 0.0869}} & \\scriptsize{\\text{$\\pm$ 0.0523}} & \\scriptsize{\\text{$\\pm$ 0.0380}} & \\scriptsize{\\text{$\\pm$ 0.0374}} & \\scriptsize{\\text{$\\pm$ 0.0281}} \\\\\n",
      "direct\\_demo2 & 0.5738 & 0.6002 & 0.6090 & 0.8323 & 0.8822 & 0.6624 & 0.6947 \\\\\n",
      " & \\scriptsize{\\text{$\\pm$ 0.0212}} & \\scriptsize{\\text{$\\pm$ 0.0249}} & \\scriptsize{\\text{$\\pm$ 0.0756}} & \\scriptsize{\\text{$\\pm$ 0.0290}} & \\scriptsize{\\text{$\\pm$ 0.0650}} & \\scriptsize{\\text{$\\pm$ 0.0309}} & \\scriptsize{\\text{$\\pm$ 0.0310}} \\\\\n",
      "indirect1 & 0.5481 & 0.5489 & 0.4828 & 0.6927 & 0.6805 & 0.8099 & 0.7998 \\\\\n",
      " & \\scriptsize{\\text{$\\pm$ 0.0524}} & \\scriptsize{\\text{$\\pm$ 0.0330}} & \\scriptsize{\\text{$\\pm$ 0.0718}} & \\scriptsize{\\text{$\\pm$ 0.0419}} & \\scriptsize{\\text{$\\pm$ 0.0428}} & \\scriptsize{\\text{$\\pm$ 0.1163}} & \\scriptsize{\\text{$\\pm$ 0.0553}} \\\\\n",
      "indirect2 & 0.5753 & 0.5785 & 0.5099 & 0.7218 & 0.7149 & 0.7976 & 0.8555 \\\\\n",
      " & \\scriptsize{\\text{$\\pm$ 0.0277}} & \\scriptsize{\\text{$\\pm$ 0.0139}} & \\scriptsize{\\text{$\\pm$ 0.0746}} & \\scriptsize{\\text{$\\pm$ 0.0328}} & \\scriptsize{\\text{$\\pm$ 0.0400}} & \\scriptsize{\\text{$\\pm$ 0.0589}} & \\scriptsize{\\text{$\\pm$ 0.0773}} \\\\\n",
      "\\bottomrule\n",
      "\\end{tabular}\n"
     ]
    }
   ],
   "source": [
    "import pandas as pd\n",
    "\n",
    "# Load the data\n",
    "data = pd.read_csv('weighted_ent_only.csv')\n",
    "\n",
    "# Function to generate custom LaTeX table\n",
    "def generate_latex_table(df):\n",
    "    latex_str = \"\\\\begin{tabular}{l|ccccccc}\\n\\\\toprule\\n\"\n",
    "    # Escape underscores in column names\n",
    "    escaped_columns = [col.replace(\"_\", \"\\\\_\") for col in df.columns]\n",
    "    latex_str += \" & \".join([\"Method\"] + escaped_columns[1:]) + \" \\\\\\\\\\n\"\n",
    "    latex_str += \"\\\\midrule\\n\"\n",
    "    for i in range(0, df.shape[0], 2):\n",
    "        # Escape underscores in method names\n",
    "        method_name = df.iloc[i, 0].replace(\"_\", \"\\\\_\")\n",
    "        # Main row values formatted as floating points\n",
    "        main_row_values = df.iloc[i, 1:].apply(lambda x: \"{:.4f}\".format(x))\n",
    "        latex_str += method_name + \" & \" + \" & \".join(main_row_values) + \" \\\\\\\\\\n\"\n",
    "        # Check if the next row is ± and if all values are zero\n",
    "        if i+1 < df.shape[0]:\n",
    "            deviations = df.iloc[i+1, 1:]\n",
    "            if all(deviation == 0 for deviation in deviations):\n",
    "                continue  # Skip entirely if all deviations are zero\n",
    "            # Adjust ± format to make text smaller and ensure math mode correctness\n",
    "            deviations = deviations.apply(lambda x: \"\\\\scriptsize{\\\\text{$\\\\pm$ \" + \"{:.4f}\".format(x) + \"}}\" if x != 0 else \"\")\n",
    "            # Append directly under each corresponding value\n",
    "            latex_str += \" & \" + \" & \".join(deviations.tolist()) + \" \\\\\\\\\\n\"\n",
    "    latex_str += \"\\\\bottomrule\\n\"\n",
    "    latex_str += \"\\\\end{tabular}\"\n",
    "    return latex_str\n",
    "\n",
    "# Generate the LaTeX table\n",
    "latex_table = generate_latex_table(data)\n",
    "print(latex_table)\n"
   ]
  }
 ],
 "metadata": {
  "kernelspec": {
   "display_name": "Python 3",
   "language": "python",
   "name": "python3"
  },
  "language_info": {
   "codemirror_mode": {
    "name": "ipython",
    "version": 3
   },
   "file_extension": ".py",
   "mimetype": "text/x-python",
   "name": "python",
   "nbconvert_exporter": "python",
   "pygments_lexer": "ipython3",
   "version": "3.11.9"
  }
 },
 "nbformat": 4,
 "nbformat_minor": 2
}
